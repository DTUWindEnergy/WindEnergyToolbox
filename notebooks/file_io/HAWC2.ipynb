{
 "cells": [
  {
   "cell_type": "markdown",
   "metadata": {},
   "source": [
    "# HAWC2 Files"
   ]
  },
  {
   "cell_type": "markdown",
   "metadata": {},
   "source": [
    "## HAWC2 results files\n",
    "\n",
    "This function works with any type of HAWC2 file. \n",
    "\n",
    "**Note!** If you have a file format that has both .dat and .sel files (`hawc_ascii` or `hawc_binary`) **you must provide the path to the .sel file.**"
   ]
  },
  {
   "cell_type": "code",
   "execution_count": null,
   "metadata": {},
   "outputs": [],
   "source": [
    "import os\n",
    "import matplotlib.pyplot as plt\n",
    "import numpy as np\n",
    "import wetb.hawc2.Hawc2io as h2io\n",
    "\n",
    "h2io_dir = os.path.dirname(h2io.__file__)\n",
    "res_path = h2io_dir + '/../../wetb/gtsdf/tests/test_files/test.hdf5'\n",
    "#res_path = 'test.hdf5'\n",
    "\n",
    "res_obj = h2io.ReadHawc2(res_path)  # load metadata\n",
    "res_data = res_obj.ReadAll()  # read any "
   ]
  },
  {
   "cell_type": "markdown",
   "metadata": {},
   "source": [
    "List the channel info."
   ]
  },
  {
   "cell_type": "code",
   "execution_count": null,
   "metadata": {},
   "outputs": [],
   "source": [
    "names, units, desc = res_obj.ChInfo\n",
    "names"
   ]
  },
  {
   "cell_type": "markdown",
   "metadata": {},
   "source": [
    "Plot a channel of interest versus time."
   ]
  },
  {
   "cell_type": "code",
   "execution_count": null,
   "metadata": {},
   "outputs": [],
   "source": [
    "chan_name = 'WSP gl. coo.,Vy'\n",
    "\n",
    "# get channel index\n",
    "ichan = 1\n",
    "\n",
    "fig, ax = plt.subplots(1, figsize=(9, 3))\n",
    "ax.plot(res_data[:, 0], res_data[:, ichan])\n",
    "ax.set(xlabel='Time [s]', ylabel=f'{names[ichan]} [{units[ichan]}]', xlim=[0, 60]);"
   ]
  },
  {
   "cell_type": "markdown",
   "metadata": {},
   "source": [
    "## HAWC2 htc files\n",
    "\n",
    "Please see \"Input file writing\" under the \"HAWC2\" section."
   ]
  },
  {
   "cell_type": "markdown",
   "metadata": {},
   "source": []
  }
 ],
 "metadata": {
  "kernelspec": {
   "display_name": "Python 3",
   "language": "python",
   "name": "python3"
  },
  "language_info": {
   "codemirror_mode": {
    "name": "ipython",
    "version": 3
   },
   "file_extension": ".py",
   "mimetype": "text/x-python",
   "name": "python",
   "nbconvert_exporter": "python",
   "pygments_lexer": "ipython3",
   "version": "3.7.10"
  },
  "toc": {
   "base_numbering": 1,
   "nav_menu": {},
   "number_sections": true,
   "sideBar": true,
   "skip_h1_title": false,
   "title_cell": "Table of Contents",
   "title_sidebar": "Contents",
   "toc_cell": false,
   "toc_position": {},
   "toc_section_display": true,
   "toc_window_display": true
  }
 },
 "nbformat": 4,
 "nbformat_minor": 2
}
