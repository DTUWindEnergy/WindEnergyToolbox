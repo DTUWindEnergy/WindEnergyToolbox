{
 "cells": [
  {
   "cell_type": "markdown",
   "metadata": {},
   "source": [
    "# Bladed to HAWC2 model conversion formulation"
   ]
  },
  {
   "cell_type": "markdown",
   "metadata": {},
   "source": [
    "# Coordinate transformation: <br>\n",
    "\n",
    "The parameters belonging to HAWC2 are showed by $*^H$ and the parameters belonging to Bladed are showed by $*^B$.\n",
    "\n",
    "$ ----------------------------------$<br> \n",
    "The blade root coordinate systems of the codes can be transfromed as:\n",
    "\n",
    "\\begin{equation}\n",
    "\\begin{bmatrix} x^H \\\\ y^H \\\\ z^H \\end{bmatrix} = \\begin{bmatrix} 0 & -1 & 0 \\\\ 1 & 0 & 0 \\\\ 0 & 0 & 1 \\end{bmatrix} \\begin{bmatrix} x^B \\\\ y^B \\\\ z^B \\end{bmatrix} \n",
    "\\end{equation}\n",
    "\n",
    "The transformation matrix is called $R^{H2B}$.\n",
    "\n",
    "$ ----------------------------------$<br> \n",
    "\n",
    "The total rotation angle is expressed by $\\theta_{CS}^{B}$ which is comupted as:<br>\n",
    "\n",
    "$\\theta_{CS}^{B}$ = -$\\theta_p^B$ - $\\beta_{\\alpha}^B$ <br>\n",
    "\n",
    "**BE CAREFUL !!!** -> Bladed positive pitch/twist definition are in negative z direction. <br>\n",
    "\n",
    "Transformation matrix $R^{B2CS}$ from Bladed local cross-section coordinates to the rotor coordinate system. <br>\n",
    "\n",
    "\\begin{equation}\n",
    "\\begin{bmatrix} x^B \\\\ y^B \\\\ z^B \\end{bmatrix}  = \\begin{bmatrix} cos(\\theta_{CS}^{B}) & sin(\\theta_{CS}^{B}) & 0 \\\\ -sin(\\theta_{CS}^{B}) & cos(\\theta_{CS}^{B}) & 0 \\\\ 0 & 0 & 1 \\end{bmatrix} \\begin{bmatrix} x^B_{CS} \\\\ y^B_{CS} \\\\ z^B_{CS} \\end{bmatrix}\n",
    "\\end{equation}\n",
    "\n",
    "$ ----------------------------------$<br> \n",
    "\n",
    "Total transformation from Bladed local coordinates to HAWC2 can be written as: <br>\n",
    "\n",
    "\\begin{equation}\n",
    "\\begin{bmatrix} x^H \\\\ y^H \\\\ z^H \\end{bmatrix} = R^{H2B} R^{B2CS} \\begin{bmatrix} x^B_{CS} \\\\ y^B_{CS} \\\\ z^B_{CS} \\end{bmatrix}\n",
    "\\end{equation}\n",
    "\n",
    "$ ----------------------------------$"
   ]
  },
  {
   "cell_type": "markdown",
   "metadata": {},
   "source": [
    "## Center positions <br>\n",
    "\n",
    "HAWC2 defines elastic, shear and mass center according to the half chord (*c2_def*) location in its st files\n",
    "whereas Bladed measures center positions from leading edge position. The center positions ($x_{LE}^B$ and $y_{LE}^B$) can be defined with respect to the half chord ($x_{c2}^B$ and $y_{c2}^B$) in Bladed coordinate system as: <br>\n",
    "\n",
    "$x_{c2}^B$ = $x_{LE}^B$ <br>\n",
    "$y_{c2}^B$ = $y_{LE}^B$ - c/2 <br>\n",
    "\n",
    "where *c* is the chord length. <br>\n",
    "\n",
    "These coordinates can be transformed to HAWC2 coordinate system by multiplying them with $R^{H2B}$.\n",
    "\n"
   ]
  },
  {
   "cell_type": "markdown",
   "metadata": {},
   "source": [
    "## Inertia conversion <br>\n",
    "\n",
    "Bladed has total inertia value *Ip* and radius of gyration ratio *RGRATIO* in its input file. <br>\n",
    "\n",
    "\\begin{equation}\n",
    "RGRATIO = \\dfrac{RG_y}{RG_x} \n",
    "\\end{equation}\n",
    "\n",
    "\\begin{equation}\n",
    "RG_x^2 = \\dfrac{I_x}{m} \\; , \\; RG_y^2 = \\dfrac{I_y}{m}\n",
    "\\end{equation}\n",
    "\n",
    "where m is mass and $I_x$ is the mass moment of inertia with respect to x axis.\n",
    "\n",
    "\\begin{equation}\n",
    "Ip = I_x + RGRATIO^2 \\times I_x \n",
    "\\end{equation}\n",
    "\n",
    "The *Ip* is defined with respec to mass center in Bladed whereas it is defined at elastic center in HAWC2. <br>\n",
    "\n",
    "\\begin{equation}\n",
    "Ip^{ea} = Ip^{cg} + m \\times (xyz^{cg} - xyz^{ea})^2\n",
    "\\end{equation}\n",
    "\n",
    "**BE CAREFUL !!!** -> do not forget to transform inertia results from Bladed coordinate system to HAWC2 coordinate system.\n",
    "\n"
   ]
  }
 ],
 "metadata": {
  "kernelspec": {
   "display_name": "Python 3",
   "language": "python",
   "name": "python3"
  },
  "language_info": {
   "codemirror_mode": {
    "name": "ipython",
    "version": 3
   },
   "file_extension": ".py",
   "mimetype": "text/x-python",
   "name": "python",
   "nbconvert_exporter": "python",
   "pygments_lexer": "ipython3",
   "version": "3.7.10"
  }
 },
 "nbformat": 4,
 "nbformat_minor": 2
}
