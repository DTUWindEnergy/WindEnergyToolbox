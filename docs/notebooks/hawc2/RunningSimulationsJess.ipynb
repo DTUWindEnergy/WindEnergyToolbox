{
 "cells": [
  {
   "cell_type": "markdown",
   "metadata": {},
   "source": [
    "## Running simulations on Jess"
   ]
  },
  {
   "cell_type": "code",
   "execution_count": 1,
   "metadata": {
    "scrolled": true
   },
   "outputs": [],
   "source": [
    "import os\n",
    "from wetb import hawc2\n",
    "from wetb.hawc2 import HTCFile\n",
    "from wetb.hawc2.tests.test_files import tfp"
   ]
  },
  {
   "cell_type": "markdown",
   "metadata": {},
   "source": [
    "Generate some HAWC2 input htc files"
   ]
  },
  {
   "cell_type": "code",
   "execution_count": 2,
   "metadata": {},
   "outputs": [
    {
     "name": "stdout",
     "output_type": "stream",
     "text": [
      "/home/mmpe/gitlab/WindEnergyToolbox/wetb/hawc2/tests/test_files/simulation_setup/DTU10MWRef6.0/htc/tmp4.htc\n",
      "/home/mmpe/gitlab/WindEnergyToolbox/wetb/hawc2/tests/test_files/simulation_setup/DTU10MWRef6.0/htc/tmp6.htc\n"
     ]
    }
   ],
   "source": [
    "htc_lst = []\n",
    "for wsp in [4,6]:\n",
    "    htc = HTCFile(tfp + \"simulation_setup/DTU10MWRef6.0/htc/DTU_10MW_RWT.htc\")\n",
    "    htc.simulation.time_stop = 1\n",
    "    htc.wind.wsp=wsp\n",
    "    htc.set_name(\"tmp%d\"%wsp)\n",
    "    htc.save()\n",
    "    htc_lst.append(htc)\n",
    "    print (htc.filename)"
   ]
  },
  {
   "cell_type": "code",
   "execution_count": 3,
   "metadata": {},
   "outputs": [],
   "source": [
    "pbs = htc.pbs_file(\"hawc2_path\", \"hawc2_cmd\", \n",
    "               queue='workq', # workq, windq, xpresq\n",
    "               walltime=None, # defaults to expected (currently 600s) * 2\n",
    "               input_files=None, # If none, required files are autodetected from htc file\n",
    "               output_files=None, # If none, output files are autodetected from htc file\n",
    "               copy_turb=(True, True) # copy turbulence files (to, from) simulation\n",
    "              )"
   ]
  },
  {
   "cell_type": "markdown",
   "metadata": {},
   "source": [
    "### Generate PBS files\n",
    "\n",
    "A PBS file defines a job that can be submitted to the queuing system of PBS featured clusters, e.g. Jess.\n",
    "\n",
    "A PBS file has header that specifies:\n",
    "\n",
    "- output file for stdout and stderr\n",
    "- wall time (after which the job will be terminated)\n",
    "- nodes (numbers of nodes to request)\n",
    "- ppn (number of processors/CPUs to use at each node. Jess has 20 CPUs per node)\n",
    "- queue (e.g. `workq`, `windq`, `xpresq`)\n",
    "\n",
    "PBS files can be generated from a HAWC2 input htc file. The body (command section) of these files will:\n",
    "\n",
    "- Copy HAWC2 to a common folder on the the scratch drive (i.e. a hard drive local to the node) if it is not already there.\n",
    "- Create a run folder on the scratch drive for the current simulation\n",
    "- Copy HAWC2 to the run folder\n",
    "- Copy all required input files (turbulence files are optional) to a common folder on the scratch drive if they are not already there\n",
    "- Copy all required input files to the run folder\n",
    "- Launch the simulation\n",
    "- Copy all output files (turbulence files are optional) back from the model directory"
   ]
  },
  {
   "cell_type": "markdown",
   "metadata": {},
   "source": [
    "HAWC2 can be copied from a local folder or from the shared group folder `/mnt/aiolos/groups/hawc2sim/HAWC2/<version>/<platform>`. \n",
    "HAWC2 can be a zip file, which will be unzipped at the scratch drive, and/or a set of files (exe, dll, ...)"
   ]
  },
  {
   "cell_type": "code",
   "execution_count": 4,
   "metadata": {},
   "outputs": [
    {
     "name": "stdout",
     "output_type": "stream",
     "text": [
      "/mnt/aiolos/groups/hawc2sim/HAWC2/v12.8.0.0/win32/\n"
     ]
    }
   ],
   "source": [
    "version = \"v12.8.0.0\" \n",
    "platform = \"win32\"\n",
    "hawc2_path=\"/mnt/aiolos/groups/hawc2sim/HAWC2/%s/%s/\" % (version, platform)\n",
    "print(hawc2_path)"
   ]
  },
  {
   "cell_type": "markdown",
   "metadata": {},
   "source": [
    "The command needed to run HAWC2 must be specified. It can be obtained via the `wine_cmd` function:"
   ]
  },
  {
   "cell_type": "code",
   "execution_count": 5,
   "metadata": {},
   "outputs": [
    {
     "name": "stdout",
     "output_type": "stream",
     "text": [
      "WINEARCH=win32 WINEPREFIX=~/.wine32 winefix\n",
      "WINEARCH=win32 WINEPREFIX=~/.wine32 wine hawc2mb.exe\n"
     ]
    }
   ],
   "source": [
    "from wetb.hawc2.hawc2_pbs_file import JESS_WINE32_HAWC2MB, wine_cmd\n",
    "hawc2_cmd = wine_cmd(platform='win32', hawc2='hawc2mb.exe', cluster='jess')\n",
    "print (hawc2_cmd)"
   ]
  },
  {
   "cell_type": "markdown",
   "metadata": {},
   "source": [
    "The PBS files are generated from the htc files"
   ]
  },
  {
   "cell_type": "code",
   "execution_count": 6,
   "metadata": {},
   "outputs": [
    {
     "name": "stdout",
     "output_type": "stream",
     "text": [
      "/home/mmpe/gitlab/WindEnergyToolbox/wetb/hawc2/tests/test_files/simulation_setup/DTU10MWRef6.0/pbs_in/tmp4.in\n",
      "/home/mmpe/gitlab/WindEnergyToolbox/wetb/hawc2/tests/test_files/simulation_setup/DTU10MWRef6.0/pbs_in/tmp6.in\n"
     ]
    }
   ],
   "source": [
    "pbs_lst = []\n",
    "for htc in htc_lst:\n",
    "    pbs = htc.pbs_file(hawc2_path, hawc2_cmd, \n",
    "                   queue='workq', # workq, windq, xpresq\n",
    "                   walltime=None, # defaults to expected (currently 600s) * 2\n",
    "                   input_files=None, # If none, required files are autodetected from htc file\n",
    "                   output_files=None, # If none, output files are autodetected from htc file\n",
    "                   copy_turb=(True, True) # copy turbulence files (to, from) simulation\n",
    "                  )\n",
    "    pbs.save()\n",
    "    pbs_lst.append(pbs)\n",
    "    print (os.path.join(pbs.workdir, pbs.filename))"
   ]
  },
  {
   "cell_type": "code",
   "execution_count": 7,
   "metadata": {},
   "outputs": [
    {
     "name": "stdout",
     "output_type": "stream",
     "text": [
      "/home/mmpe/gitlab/WindEnergyToolbox/wetb/hawc2/tests/test_files/simulation_setup/DTU10MWRef6.0\n",
      "/home/mmpe/gitlab/WindEnergyToolbox/wetb/hawc2/tests/test_files/simulation_setup/DTU10MWRef6.0\n",
      ".\n"
     ]
    }
   ],
   "source": [
    "from wetb.utils.cluster_tools.os_path import pjoin, relpath, abspath,\\\n",
    "    cluster_path, repl\n",
    "print(abspath(pbs.exe_dir))\n",
    "print(pbs.modelpath)\n",
    "\n",
    "rel_exe_dir = relpath(pbs.exe_dir, pbs.modelpath)\n",
    "print (rel_exe_dir)"
   ]
  },
  {
   "cell_type": "markdown",
   "metadata": {},
   "source": [
    "You can see the contents of the last pbs file here"
   ]
  },
  {
   "cell_type": "code",
   "execution_count": 8,
   "metadata": {},
   "outputs": [
    {
     "name": "stdout",
     "output_type": "stream",
     "text": [
      "### Jobid\n",
      "#PBS -N tmp6\n",
      "### Standard Output\n",
      "#PBS -o /home/mmpe/gitlab/WindEnergyToolbox/wetb/hawc2/tests/test_files/simulation_setup/DTU10MWRef6.0/stdout/tmp6.out\n",
      "### merge stderr into stdout\n",
      "#PBS -j oe\n",
      "#PBS -W umask=0003\n",
      "### Maximum wallclock time format HOURS:MINUTES:SECONDS\n",
      "#PBS -l walltime=00:20:00\n",
      "#PBS -l nodes=1:ppn=1\n",
      "### Queue name\n",
      "#PBS -q workq\n",
      "cd \"/home/mmpe/gitlab/WindEnergyToolbox/wetb/hawc2/tests/test_files/simulation_setup/DTU10MWRef6.0\"\n",
      "mkdir -p \"stdout\"\n",
      "if [ -z \"$PBS_JOBID\" ]; then echo \"Run using qsub\"; exit ; fi\n",
      "pwd\n",
      "\n",
      "\n",
      "#===============================================================================\n",
      "echo copy hawc2 to scratch\n",
      "#===============================================================================\n",
      "(flock -x 200\n",
      "mkdir -p \"/scratch/$USER/$PBS_JOBID/hawc2/\"\n",
      "unzip -u -o -q \"/mnt/aiolos/groups/hawc2sim/HAWC2/v12.8.0.0/win32/\"*.zip -d \"/scratch/$USER/$PBS_JOBID/hawc2/\"\n",
      "find \"/mnt/aiolos/groups/hawc2sim/HAWC2/v12.8.0.0/win32/\"* ! -name *.zip -exec cp -u -t \"/scratch/$USER/$PBS_JOBID/hawc2/\" {} +\n",
      ") 200>\"/scratch/$USER/$PBS_JOBID/lock_file_hawc2\"\n",
      "mkdir -p \"/scratch/$USER/$PBS_JOBID/DTU10MWRef6.0/run_tmp6/.\"\n",
      "cp \"/scratch/$USER/$PBS_JOBID/hawc2/\"* \"/scratch/$USER/$PBS_JOBID/DTU10MWRef6.0/run_tmp6/.\"\n",
      "\n",
      "#===============================================================================\n",
      "echo copy input\n",
      "#===============================================================================\n",
      "\n",
      "cd \"/home/mmpe/gitlab/WindEnergyToolbox/wetb/hawc2/tests/test_files/simulation_setup/DTU10MWRef6.0\"\n",
      "(flock -x 200\n",
      "mkdir -p \"/scratch/$USER/$PBS_JOBID/DTU10MWRef6.0/data\" && cp -u -r \"data/DTU_10MW_RWT_Tower_st.dat\" \"/scratch/$USER/$PBS_JOBID/DTU10MWRef6.0/data\"\n",
      "mkdir -p \"/scratch/$USER/$PBS_JOBID/DTU10MWRef6.0/control\" && cp -u -r \"control/mech_brake.dll\" \"/scratch/$USER/$PBS_JOBID/DTU10MWRef6.0/control\"\n",
      "mkdir -p \"/scratch/$USER/$PBS_JOBID/DTU10MWRef6.0/data\" && cp -u -r \"data/DTU_10MW_RWT_Hub_st.dat\" \"/scratch/$USER/$PBS_JOBID/DTU10MWRef6.0/data\"\n",
      "mkdir -p \"/scratch/$USER/$PBS_JOBID/DTU10MWRef6.0/control\" && cp -u -r \"control/dtu_we_controller_64.dll\" \"/scratch/$USER/$PBS_JOBID/DTU10MWRef6.0/control\"\n",
      "mkdir -p \"/scratch/$USER/$PBS_JOBID/DTU10MWRef6.0/control\" && cp -u -r \"control/towclearsens.dll\" \"/scratch/$USER/$PBS_JOBID/DTU10MWRef6.0/control\"\n",
      "mkdir -p \"/scratch/$USER/$PBS_JOBID/DTU10MWRef6.0/data\" && cp -u -r \"data/DTU_10MW_RWT_Towertop_st.dat\" \"/scratch/$USER/$PBS_JOBID/DTU10MWRef6.0/data\"\n",
      "mkdir -p \"/scratch/$USER/$PBS_JOBID/DTU10MWRef6.0/control\" && cp -u -r \"control/servo_with_limits_64.dll\" \"/scratch/$USER/$PBS_JOBID/DTU10MWRef6.0/control\"\n",
      "mkdir -p \"/scratch/$USER/$PBS_JOBID/DTU10MWRef6.0/control\" && cp -u -r \"control/servo_with_limits.dll\" \"/scratch/$USER/$PBS_JOBID/DTU10MWRef6.0/control\"\n",
      "mkdir -p \"/scratch/$USER/$PBS_JOBID/DTU10MWRef6.0/control\" && cp -u -r \"control/wpdata.100\" \"/scratch/$USER/$PBS_JOBID/DTU10MWRef6.0/control\"\n",
      "mkdir -p \"/scratch/$USER/$PBS_JOBID/DTU10MWRef6.0/control\" && cp -u -r \"control/mech_brake_64.dll\" \"/scratch/$USER/$PBS_JOBID/DTU10MWRef6.0/control\"\n",
      "mkdir -p \"/scratch/$USER/$PBS_JOBID/DTU10MWRef6.0/control\" && cp -u -r \"control/generator_servo.dll\" \"/scratch/$USER/$PBS_JOBID/DTU10MWRef6.0/control\"\n",
      "mkdir -p \"/scratch/$USER/$PBS_JOBID/DTU10MWRef6.0/control\" && cp -u -r \"control/dtu_we_controller.dll\" \"/scratch/$USER/$PBS_JOBID/DTU10MWRef6.0/control\"\n",
      "mkdir -p \"/scratch/$USER/$PBS_JOBID/DTU10MWRef6.0/control\" && cp -u -r \"control/generator_servo_64.dll\" \"/scratch/$USER/$PBS_JOBID/DTU10MWRef6.0/control\"\n",
      "mkdir -p \"/scratch/$USER/$PBS_JOBID/DTU10MWRef6.0/data\" && cp -u -r \"data/DTU_10MW_RWT_pc.dat\" \"/scratch/$USER/$PBS_JOBID/DTU10MWRef6.0/data\"\n",
      "mkdir -p \"/scratch/$USER/$PBS_JOBID/DTU10MWRef6.0/control\" && cp -u -r \"control/towclearsens_64.dll\" \"/scratch/$USER/$PBS_JOBID/DTU10MWRef6.0/control\"\n",
      "mkdir -p \"/scratch/$USER/$PBS_JOBID/DTU10MWRef6.0/data\" && cp -u -r \"data/DTU_10MW_RWT_ae.dat\" \"/scratch/$USER/$PBS_JOBID/DTU10MWRef6.0/data\"\n",
      "mkdir -p \"/scratch/$USER/$PBS_JOBID/DTU10MWRef6.0/htc\" && cp -u -r \"htc/tmp6.htc\" \"/scratch/$USER/$PBS_JOBID/DTU10MWRef6.0/htc\"\n",
      "mkdir -p \"/scratch/$USER/$PBS_JOBID/DTU10MWRef6.0/data\" && cp -u -r \"data/DTU_10MW_RWT_Shaft_st.dat\" \"/scratch/$USER/$PBS_JOBID/DTU10MWRef6.0/data\"\n",
      "mkdir -p \"/scratch/$USER/$PBS_JOBID/DTU10MWRef6.0/data\" && cp -u -r \"data/DTU_10MW_RWT_Blade_st.dat\" \"/scratch/$USER/$PBS_JOBID/DTU10MWRef6.0/data\"\n",
      ") 200>/scratch/$USER/$PBS_JOBID/DTU10MWRef6.0/lock_file_model\n",
      "cd \"/scratch/$USER/$PBS_JOBID/DTU10MWRef6.0\"\n",
      "mkdir -p \"/scratch/$USER/$PBS_JOBID/DTU10MWRef6.0/run_tmp6/data\" && cp -u -r \"data/DTU_10MW_RWT_Tower_st.dat\" \"/scratch/$USER/$PBS_JOBID/DTU10MWRef6.0/run_tmp6/data\"\n",
      "mkdir -p \"/scratch/$USER/$PBS_JOBID/DTU10MWRef6.0/run_tmp6/control\" && cp -u -r \"control/mech_brake.dll\" \"/scratch/$USER/$PBS_JOBID/DTU10MWRef6.0/run_tmp6/control\"\n",
      "mkdir -p \"/scratch/$USER/$PBS_JOBID/DTU10MWRef6.0/run_tmp6/data\" && cp -u -r \"data/DTU_10MW_RWT_Hub_st.dat\" \"/scratch/$USER/$PBS_JOBID/DTU10MWRef6.0/run_tmp6/data\"\n",
      "mkdir -p \"/scratch/$USER/$PBS_JOBID/DTU10MWRef6.0/run_tmp6/control\" && cp -u -r \"control/dtu_we_controller_64.dll\" \"/scratch/$USER/$PBS_JOBID/DTU10MWRef6.0/run_tmp6/control\"\n",
      "mkdir -p \"/scratch/$USER/$PBS_JOBID/DTU10MWRef6.0/run_tmp6/control\" && cp -u -r \"control/towclearsens.dll\" \"/scratch/$USER/$PBS_JOBID/DTU10MWRef6.0/run_tmp6/control\"\n",
      "mkdir -p \"/scratch/$USER/$PBS_JOBID/DTU10MWRef6.0/run_tmp6/data\" && cp -u -r \"data/DTU_10MW_RWT_Towertop_st.dat\" \"/scratch/$USER/$PBS_JOBID/DTU10MWRef6.0/run_tmp6/data\"\n",
      "mkdir -p \"/scratch/$USER/$PBS_JOBID/DTU10MWRef6.0/run_tmp6/control\" && cp -u -r \"control/servo_with_limits_64.dll\" \"/scratch/$USER/$PBS_JOBID/DTU10MWRef6.0/run_tmp6/control\"\n",
      "mkdir -p \"/scratch/$USER/$PBS_JOBID/DTU10MWRef6.0/run_tmp6/control\" && cp -u -r \"control/servo_with_limits.dll\" \"/scratch/$USER/$PBS_JOBID/DTU10MWRef6.0/run_tmp6/control\"\n",
      "mkdir -p \"/scratch/$USER/$PBS_JOBID/DTU10MWRef6.0/run_tmp6/control\" && cp -u -r \"control/wpdata.100\" \"/scratch/$USER/$PBS_JOBID/DTU10MWRef6.0/run_tmp6/control\"\n",
      "mkdir -p \"/scratch/$USER/$PBS_JOBID/DTU10MWRef6.0/run_tmp6/control\" && cp -u -r \"control/mech_brake_64.dll\" \"/scratch/$USER/$PBS_JOBID/DTU10MWRef6.0/run_tmp6/control\"\n",
      "mkdir -p \"/scratch/$USER/$PBS_JOBID/DTU10MWRef6.0/run_tmp6/control\" && cp -u -r \"control/generator_servo.dll\" \"/scratch/$USER/$PBS_JOBID/DTU10MWRef6.0/run_tmp6/control\"\n",
      "mkdir -p \"/scratch/$USER/$PBS_JOBID/DTU10MWRef6.0/run_tmp6/control\" && cp -u -r \"control/dtu_we_controller.dll\" \"/scratch/$USER/$PBS_JOBID/DTU10MWRef6.0/run_tmp6/control\"\n",
      "mkdir -p \"/scratch/$USER/$PBS_JOBID/DTU10MWRef6.0/run_tmp6/control\" && cp -u -r \"control/generator_servo_64.dll\" \"/scratch/$USER/$PBS_JOBID/DTU10MWRef6.0/run_tmp6/control\"\n",
      "mkdir -p \"/scratch/$USER/$PBS_JOBID/DTU10MWRef6.0/run_tmp6/data\" && cp -u -r \"data/DTU_10MW_RWT_pc.dat\" \"/scratch/$USER/$PBS_JOBID/DTU10MWRef6.0/run_tmp6/data\"\n",
      "mkdir -p \"/scratch/$USER/$PBS_JOBID/DTU10MWRef6.0/run_tmp6/control\" && cp -u -r \"control/towclearsens_64.dll\" \"/scratch/$USER/$PBS_JOBID/DTU10MWRef6.0/run_tmp6/control\"\n",
      "mkdir -p \"/scratch/$USER/$PBS_JOBID/DTU10MWRef6.0/run_tmp6/data\" && cp -u -r \"data/DTU_10MW_RWT_ae.dat\" \"/scratch/$USER/$PBS_JOBID/DTU10MWRef6.0/run_tmp6/data\"\n",
      "mkdir -p \"/scratch/$USER/$PBS_JOBID/DTU10MWRef6.0/run_tmp6/htc\" && cp -u -r \"htc/tmp6.htc\" \"/scratch/$USER/$PBS_JOBID/DTU10MWRef6.0/run_tmp6/htc\"\n",
      "mkdir -p \"/scratch/$USER/$PBS_JOBID/DTU10MWRef6.0/run_tmp6/data\" && cp -u -r \"data/DTU_10MW_RWT_Shaft_st.dat\" \"/scratch/$USER/$PBS_JOBID/DTU10MWRef6.0/run_tmp6/data\"\n",
      "mkdir -p \"/scratch/$USER/$PBS_JOBID/DTU10MWRef6.0/run_tmp6/data\" && cp -u -r \"data/DTU_10MW_RWT_Blade_st.dat\" \"/scratch/$USER/$PBS_JOBID/DTU10MWRef6.0/run_tmp6/data\"\n",
      "\n",
      "\n",
      "#===============================================================================\n",
      "echo Run HAWC2\n",
      "#===============================================================================\n",
      "cd \"/scratch/$USER/$PBS_JOBID/DTU10MWRef6.0/run_tmp6/.\"\n",
      "WINEARCH=win32 WINEPREFIX=~/.wine32 winefix\n",
      "WINEARCH=win32 WINEPREFIX=~/.wine32 wine hawc2mb.exe htc/tmp6.htc\n",
      "\n",
      "#===============================================================================\n",
      "echo Copy output\n",
      "#===============================================================================\n",
      "cd \"/scratch/$USER/$PBS_JOBID/DTU10MWRef6.0/run_tmp6\"\n",
      "mkdir -p \"/home/mmpe/gitlab/WindEnergyToolbox/wetb/hawc2/tests/test_files/simulation_setup/DTU10MWRef6.0/log\" && cp -u -r \"log/tmp6.log\" \"/home/mmpe/gitlab/WindEnergyToolbox/wetb/hawc2/tests/test_files/simulation_setup/DTU10MWRef6.0/log\"\n",
      "mkdir -p \"/home/mmpe/gitlab/WindEnergyToolbox/wetb/hawc2/tests/test_files/simulation_setup/DTU10MWRef6.0/res\" && cp -u -r \"res/tmp6.sel\" \"/home/mmpe/gitlab/WindEnergyToolbox/wetb/hawc2/tests/test_files/simulation_setup/DTU10MWRef6.0/res\"\n",
      "mkdir -p \"/home/mmpe/gitlab/WindEnergyToolbox/wetb/hawc2/tests/test_files/simulation_setup/DTU10MWRef6.0/res\" && cp -u -r \"res/tmp6.dat\" \"/home/mmpe/gitlab/WindEnergyToolbox/wetb/hawc2/tests/test_files/simulation_setup/DTU10MWRef6.0/res\"\n",
      "mkdir -p \"/home/mmpe/gitlab/WindEnergyToolbox/wetb/hawc2/tests/test_files/simulation_setup/DTU10MWRef6.0/res\" && cp -u -r \"res/at.dat\" \"/home/mmpe/gitlab/WindEnergyToolbox/wetb/hawc2/tests/test_files/simulation_setup/DTU10MWRef6.0/res\"\n",
      "\n",
      "rm -r \"/scratch/$USER/$PBS_JOBID/DTU10MWRef6.0/run_tmp6\"\n",
      "\n",
      "echo Done\n",
      "\n",
      "exit\n",
      "\n"
     ]
    }
   ],
   "source": [
    "print(pbs)"
   ]
  },
  {
   "cell_type": "markdown",
   "metadata": {},
   "source": [
    "### Run single simulation"
   ]
  },
  {
   "cell_type": "markdown",
   "metadata": {},
   "source": [
    "You can run a simulation by executing the pbs file in an interactive seession. This way is very handy for debugging.\n",
    "\n",
    "```bash\n",
    "qsub -I -l nodes=1:ppn=1 -l walltime=01:00:00\n",
    "<...>/wetb/hawc2/tests/test_files/simulation_setup/pbs_in/tmp6.in\n",
    "```"
   ]
  },
  {
   "cell_type": "markdown",
   "metadata": {},
   "source": [
    "or by summiting the pbs file to the queing system\n",
    "```\n",
    "qsub <...>/wetb/hawc2/tests/test_files/simulation_setup\\pbs_in/tmp6.in\n",
    "```\n",
    "This done here:"
   ]
  },
  {
   "cell_type": "code",
   "execution_count": 9,
   "metadata": {},
   "outputs": [
    {
     "name": "stdout",
     "output_type": "stream",
     "text": [
      "/home/mmpe/gitlab/WindEnergyToolbox/wetb/hawc2/tests/test_files/simulation_setup/DTU10MWRef6.0/pbs_in/tmp6.in\n",
      "3221545.jess.dtu.dk\n"
     ]
    }
   ],
   "source": [
    "print(os.path.join(pbs.workdir,pbs.filename))\n",
    "!qsub {os.path.join(pbs.workdir,pbs.filename)}"
   ]
  },
  {
   "cell_type": "markdown",
   "metadata": {},
   "source": [
    "The job will now enter the cluster queue and be launched when free resoureces are available.\n",
    "You can check the status of the job:"
   ]
  },
  {
   "cell_type": "code",
   "execution_count": 13,
   "metadata": {},
   "outputs": [],
   "source": [
    "!qstat -n -u $USER"
   ]
  },
  {
   "cell_type": "markdown",
   "metadata": {},
   "source": [
    "Wait as long as the `qstat` command above prints information about the job\n",
    "\n",
    "When the job is finished we can check the output file"
   ]
  },
  {
   "cell_type": "code",
   "execution_count": 14,
   "metadata": {},
   "outputs": [
    {
     "name": "stdout",
     "output_type": "stream",
     "text": [
      "Start of prologue\r\n",
      "/scratch/mmpe/3221545.jess.dtu.dk created\r\n",
      "End of prologue\r\n",
      "/home/mmpe/gitlab/WindEnergyToolbox/wetb/hawc2/tests/test_files/simulation_setup/DTU10MWRef6.0\r\n",
      "copy hawc2 to scratch\r\n",
      "copy input\r\n",
      "cp: cannot stat `control/dtu_we_controller_64.dll': No such file or directory\r\n",
      "cp: cannot stat `control/servo_with_limits_64.dll': No such file or directory\r\n",
      "cp: cannot stat `control/mech_brake_64.dll': No such file or directory\r\n",
      "cp: cannot stat `control/generator_servo_64.dll': No such file or directory\r\n",
      "cp: cannot stat `control/towclearsens_64.dll': No such file or directory\r\n",
      "cp: cannot stat `control/dtu_we_controller_64.dll': No such file or directory\r\n",
      "cp: cannot stat `control/servo_with_limits_64.dll': No such file or directory\r\n",
      "cp: cannot stat `control/mech_brake_64.dll': No such file or directory\r\n",
      "cp: cannot stat `control/generator_servo_64.dll': No such file or directory\r\n",
      "cp: cannot stat `control/towclearsens_64.dll': No such file or directory\r\n",
      "Run HAWC2\r\n",
      " ***********************************************************************\r",
      "\r\n",
      " *  Build information for HAWC2MB.exe (GIT)\r",
      "\r\n",
      " *  Intel, version         1900 ,     20190206\r",
      "\r\n",
      " *  WINDOWS 32-bit\r",
      "\r\n",
      " ***********************************************************************\r",
      "\r\n",
      " *  GIT-TAG        = 12.8.0\r",
      "\r\n",
      " *  BUILDER        = mmpe\r",
      "\r\n",
      " *  COMPUTER_NAME  = VINDRI-D17205\r",
      "\r\n",
      " *  BUILD_DATE     = 30-01-2020\r",
      "\r\n",
      " ***********************************************************************\r",
      "\r\n",
      "fixme:console:GetNumberOfConsoleMouseButtons (0x684ec44): stub\r\n",
      " Using licence_manager.dll, version: unknown\r",
      "\r\n",
      " License verified - OK\r",
      "\r\n",
      " Opening main command file: htc/tmp6.htc\r",
      "\r\n",
      " Current directory is Z:\\scratch\\mmpe\\3221545.jess.dtu.dk\\DTU10MWRef6.0\\run_tmp6\r",
      "\r\n",
      " Continue on no convergence = true\r",
      "\r\n",
      " Logfile: ./log/tmp6.log is open for log outputs\r",
      "\r\n",
      " Basic DTU Wind Energy Controller (ver. 2.3 v0.1.dev69.17400ca) loaded ...\r",
      "\r\n",
      " Gen. torque Servo (ver. 2.2 v0.1.dev15.eddfec3) loaded...\r",
      "\r\n",
      " Mech brake (ver. 2.2 v0.1.dev14.9e614a3) loaded...\r",
      "\r\n",
      " Pitch Servo (ver. 2.2 v0.1.dev15.eddfec3) loaded...\r",
      "\r\n",
      "Copy output\r\n",
      "Done\r\n",
      "Start of epilogue on j-177\r\n",
      "Resources Used: cput=00:00:04,mem=5744kb,vmem=3856592kb,walltime=00:00:07\r\n",
      "End of epilogue on j-177\r\n"
     ]
    }
   ],
   "source": [
    "!cat {pbs.stdout_filename}"
   ]
  },
  {
   "cell_type": "markdown",
   "metadata": {},
   "source": [
    "Highlights:\n",
    "- copy hawc2 to scratch\n",
    "- copy input\n",
    "    - It states that it cannot copy the 64-bit control dlls (control/*_64.dll) - which does not matter as we are using the 32-bit HAWC2\n",
    "- Run HAWC2\n",
    "- Copy output\n",
    "- Done\n"
   ]
  },
  {
   "cell_type": "code",
   "execution_count": 15,
   "metadata": {},
   "outputs": [
    {
     "name": "stdout",
     "output_type": "stream",
     "text": [
      " ***********************************************************************\r",
      "\r\n",
      " *  Build information for HAWC2MB.exe (GIT)\r",
      "\r\n",
      " *  Intel, version         1900 ,     20190206\r",
      "\r\n",
      " *  WINDOWS 32-bit\r",
      "\r\n",
      " ***********************************************************************\r",
      "\r\n",
      " *  GIT-TAG        = 12.8.0\r",
      "\r\n",
      " *  BUILDER        = mmpe\r",
      "\r\n",
      " *  COMPUTER_NAME  = VINDRI-D17205\r",
      "\r\n",
      " *  BUILD_DATE     = 30-01-2020\r",
      "\r\n",
      " ***********************************************************************\r",
      "\r\n",
      "________________________________________________________________________________________________________________________\r",
      "\r\n",
      "  Log file output\r",
      "\r\n",
      "                                                            Time : 12:19:17\r",
      "\r\n",
      "                                                            Date : 29:05.2020\r",
      "\r\n",
      "________________________________________________________________________________________________________________________\r",
      "\r\n",
      " Newmark commands read with succes\r",
      "\r\n",
      " Simulation commands read with succes\r",
      "\r\n",
      " Reading data of main body : tower\r",
      "\r\n",
      " Succes opening ./data/dtu_10mw_rwt_tower_st.dat\r",
      "\r\n",
      " timoschenko input commands read with succes\r",
      "\r\n"
     ]
    }
   ],
   "source": [
    "!head -n 20 {os.path.join(htc.modelpath, htc.simulation.logfile[0])}"
   ]
  },
  {
   "cell_type": "markdown",
   "metadata": {},
   "source": [
    "### Run multiple simulations"
   ]
  },
  {
   "cell_type": "markdown",
   "metadata": {},
   "source": [
    "Multiple simulations can easily be executed using the `PBSMultiRunner`.\n",
    "\n",
    "The `PBSMultiRunner` generates a top-level `pbs_multirunner.all` pbs job capable of launching all the HTC-specific PBS files in a folder.\n",
    "\n",
    "The `PBSMultiRunner` needs some information:\n",
    "- queue (e.g. workq, windq, xpresq)\n",
    "- nodes (number of nodes)\n",
    "- ppn (processors per node). Be careful, ppn does not limit the job to this number of CPUs, i.e. you may occupy all resources of a full node even if you set ppn=10 - annoying other users of the node. Hence ppn should be 20 if you need to run more than a few simulations)\n",
    "- wall time in seconds (after which the job will be terminated, i.e. approximately total simulation time divided by number of)"
   ]
  },
  {
   "cell_type": "code",
   "execution_count": 16,
   "metadata": {},
   "outputs": [
    {
     "name": "stdout",
     "output_type": "stream",
     "text": [
      "/home/mmpe/gitlab/WindEnergyToolbox/wetb/hawc2/tests/test_files/simulation_setup/DTU10MWRef6.0/pbs_multirunner.all\n"
     ]
    }
   ],
   "source": [
    "from wetb.utils.cluster_tools.pbsfile import PBSMultiRunner\n",
    "pbs_all = PBSMultiRunner(workdir=pbs.workdir,\n",
    "                     queue='workq', # alternatives workq, windq, xpresq\n",
    "                     walltime=10,   # expected total simulation time in seconds\n",
    "                     nodes=1,       # Number of nodes\n",
    "                     ppn=2,         # number of processors of each node (normally 20)\n",
    "                     pbsfiles=None  # If None, the multirunner searches for *.in files\n",
    "                     )\n",
    "pbs_all.save()\n",
    "print (os.path.join(pbs_all.workdir, pbs_all.filename))"
   ]
  },
  {
   "cell_type": "markdown",
   "metadata": {},
   "source": [
    "The pbs_multirunner.all will do the following:\n",
    "\n",
    "- Get list of nodes assigned for the current job\n",
    "- Make list of *.in pbs files. \n",
    "- Sort pbs files according to their wall time and distribute the files to the available nodes. Longest simulations are run first\n",
    "- Generate a file, `pbs.dict`, containing for each node a list of (pbs file, stdout filename, wall time):\n",
    "\n",
    "    `{'j-177': [('./pbs_in/tmp4.in', './stdout/tmp4.out', '00:20:00'), ('./pbs_in/tmp6.in', './stdout/tmp6.out', '00:20:00')]}`\n",
    "    \n",
    "- On each node, launch the assigned pbs files in parallel via Python's multiprocessing module.\n",
    "\n",
    "You can see the content of the `pbs_multirunner.all` here:"
   ]
  },
  {
   "cell_type": "code",
   "execution_count": 17,
   "metadata": {},
   "outputs": [
    {
     "name": "stdout",
     "output_type": "stream",
     "text": [
      "### Jobid\r\n",
      "#PBS -N pbs_multirunner\r\n",
      "### Standard Output\r\n",
      "#PBS -o /home/mmpe/gitlab/WindEnergyToolbox/wetb/hawc2/tests/test_files/simulation_setup/DTU10MWRef6.0/stdout/pbs_multirunner.out\r\n",
      "### merge stderr into stdout\r\n",
      "#PBS -j oe\r\n",
      "#PBS -W umask=0003\r\n",
      "### Maximum wallclock time format HOURS:MINUTES:SECONDS\r\n",
      "#PBS -l walltime=00:00:10\r\n",
      "#PBS -l nodes=1:ppn=2\r\n",
      "### Queue name\r\n",
      "#PBS -q workq\r\n",
      "cd \"/home/mmpe/gitlab/WindEnergyToolbox/wetb/hawc2/tests/test_files/simulation_setup/DTU10MWRef6.0\"\r\n",
      "mkdir -p \"stdout\"\r\n",
      "if [ -z \"$PBS_JOBID\" ]; then echo \"Run using qsub\"; exit ; fi\r\n",
      "pwd\r\n",
      "echo \"import os\r\n",
      "import glob\r\n",
      "import numpy as np\r\n",
      "import re\r\n",
      "\r\n",
      "# find available nodes\r\n",
      "with open(os.environ['PBS_NODEFILE']) as fid:\r\n",
      "    nodes = set([f.strip() for f in fid.readlines() if f.strip() != ''])\r\n",
      "pbs_files = [os.path.join(root, f) for root, folders, f_lst in os.walk('.') for f in f_lst if f.endswith('.in')]\r\n",
      "\r\n",
      "# Make a list of [(pbs_in_filename, stdout_filename, walltime),...]\r\n",
      "pat = re.compile(r'[\\s\\S]*#\\s*PBS\\s+-o\\s+(.*)[\\s\\S]*(\\d\\d:\\d\\d:\\d\\d)[\\s\\S]*')\r\n",
      "\r\n",
      "def get_info(f):\r\n",
      "    try:\r\n",
      "        with open(f) as fid:\r\n",
      "            return (f,) + pat.match(fid.read()).groups()\r\n",
      "    except Exception:\r\n",
      "        return (f, f.replace('.in', '.out'), '00:30:00')\r\n",
      "pbs_info_lst = map(get_info, pbs_files)\r\n",
      "\r\n",
      "# sort wrt walltime\r\n",
      "pbs_info_lst = sorted(pbs_info_lst, key=lambda fow: tuple(map(int, fow[2].split(':'))))[::-1]\r\n",
      "# make dict {node1: pbs_info_lst1, ...} and save\r\n",
      "d = dict([(f, pbs_info_lst[i::len(nodes)]) for i, f in enumerate(nodes)])\r\n",
      "with open('pbs.dict', 'w') as fid:\r\n",
      "    fid.write(str(d))\r\n",
      "\r\n",
      "\" | python\r\n",
      "\r\n",
      "for node in `cat $PBS_NODEFILE | sort | uniq`\r\n",
      "do\r\n",
      "\r\n",
      "     ssh -T $node << EOF &\r\n",
      "cd \"/home/mmpe/gitlab/WindEnergyToolbox/wetb/hawc2/tests/test_files/simulation_setup/DTU10MWRef6.0\"\r\n",
      "python -c \"import os\r\n",
      "import multiprocessing\r\n",
      "import platform\r\n",
      "import time\r\n",
      "with open('pbs.dict') as fid:\r\n",
      "    pbs_info_lst = eval(fid.read())[platform.node()]\r\n",
      "arg_lst = ['echo starting %s && mkdir -p \"%s\" && env PBS_JOBID=$PBS_JOBID \"%s\" &> \"%s\" && echo finished %s' %\r\n",
      "           (f, os.path.dirname(o), f, o, f) for f, o, _ in pbs_info_lst]\r\n",
      "print(arg_lst[0])\r\n",
      "print('Starting %d jobs on %s' % (len(arg_lst), platform.node()))\r\n",
      "pool = multiprocessing.Pool(int('$PBS_NUM_PPN'))\r\n",
      "res = pool.map_async(os.system, arg_lst)\r\n",
      "t = time.time()\r\n",
      "for (f, _, _), r in zip(pbs_info_lst, res.get()):\r\n",
      "    print('%-50s\\t%s' % (f, ('Errorcode %d' % r, 'Done')[r == 0]))\r\n",
      "print('Done %d jobs on %s in %ds' % (len(arg_lst), platform.node(), time.time() - t))\r\n",
      "\r\n",
      "\"\r\n",
      "EOF\r\n",
      "done\r\n",
      "wait\r\n",
      "\r\n",
      "exit\r\n"
     ]
    }
   ],
   "source": [
    "!cat {os.path.join(pbs_all.workdir, pbs_all.filename)}"
   ]
  },
  {
   "cell_type": "markdown",
   "metadata": {},
   "source": [
    "You can launch the multirunner via \n",
    "```bash\n",
    "qsub <...>/wetb/hawc2/tests/test_files/simulation_setup\\pbs_multirunner.all\n",
    "```\n",
    "It is done here:"
   ]
  },
  {
   "cell_type": "code",
   "execution_count": 18,
   "metadata": {},
   "outputs": [
    {
     "name": "stdout",
     "output_type": "stream",
     "text": [
      "3221548.jess.dtu.dk\r\n"
     ]
    }
   ],
   "source": [
    "!qsub {os.path.join(pbs_all.workdir, pbs_all.filename)}"
   ]
  },
  {
   "cell_type": "markdown",
   "metadata": {},
   "source": [
    "The job will now enter the cluster queue and be launched when free resoureces are available. You can check the status of the job:"
   ]
  },
  {
   "cell_type": "code",
   "execution_count": 20,
   "metadata": {},
   "outputs": [],
   "source": [
    "!qstat -n -u $USER"
   ]
  },
  {
   "cell_type": "markdown",
   "metadata": {},
   "source": [
    "Wait as long as the qstat command above prints information about the job\n",
    "\n",
    "When the job is finished we can check the output file"
   ]
  },
  {
   "cell_type": "code",
   "execution_count": 21,
   "metadata": {},
   "outputs": [
    {
     "name": "stdout",
     "output_type": "stream",
     "text": [
      "Start of prologue\r\n",
      "/scratch/mmpe/3221548.jess.dtu.dk created\r\n",
      "End of prologue\r\n",
      "/home/mmpe/gitlab/WindEnergyToolbox/wetb/hawc2/tests/test_files/simulation_setup/DTU10MWRef6.0\r\n",
      "Warning: Permanently added 'j-176,172.16.1.76' (RSA) to the list of known hosts.\r",
      "\r\n",
      "echo starting ./pbs_in/tmp4.in && mkdir -p /home/mmpe/gitlab/WindEnergyToolbox/wetb/hawc2/tests/test_files/simulation_setup/DTU10MWRef6.0/stdout && env PBS_JOBID=3221548.jess.dtu.dk ./pbs_in/tmp4.in &> /home/mmpe/gitlab/WindEnergyToolbox/wetb/hawc2/tests/test_files/simulation_setup/DTU10MWRef6.0/stdout/tmp4.out && echo finished ./pbs_in/tmp4.in\r\n",
      "Starting 2 jobs on j-176\r\n",
      "starting ./pbs_in/tmp4.in\r\n",
      "starting ./pbs_in/tmp6.in\r\n",
      "finished ./pbs_in/tmp6.in\r\n",
      "finished ./pbs_in/tmp4.in\r\n",
      "./pbs_in/tmp4.in                                  \tDone\r\n",
      "./pbs_in/tmp6.in                                  \tDone\r\n",
      "Done 2 jobs on j-176 in 4s\r\n",
      "Start of epilogue on j-176\r\n",
      "Resources Used: cput=00:00:00,mem=0kb,vmem=0kb,walltime=00:00:06\r\n",
      "End of epilogue on j-176\r\n"
     ]
    }
   ],
   "source": [
    "!cat {pbs_all.stdout_filename}"
   ]
  },
  {
   "cell_type": "code",
   "execution_count": null,
   "metadata": {},
   "outputs": [],
   "source": []
  }
 ],
 "metadata": {
  "kernelspec": {
   "display_name": "Python 3",
   "language": "python",
   "name": "python3"
  },
  "language_info": {
   "codemirror_mode": {
    "name": "ipython",
    "version": 3
   },
   "file_extension": ".py",
   "mimetype": "text/x-python",
   "name": "python",
   "nbconvert_exporter": "python",
   "pygments_lexer": "ipython3",
   "version": "3.6.10"
  },
  "toc": {
   "base_numbering": 1,
   "nav_menu": {},
   "number_sections": true,
   "sideBar": true,
   "skip_h1_title": false,
   "title_cell": "Table of Contents",
   "title_sidebar": "Contents",
   "toc_cell": false,
   "toc_position": {},
   "toc_section_display": true,
   "toc_window_display": true
  }
 },
 "nbformat": 4,
 "nbformat_minor": 4
}
